{
 "cells": [
  {
   "cell_type": "markdown",
   "id": "870abb60",
   "metadata": {},
   "source": [
    "## Problem 1"
   ]
  },
  {
   "cell_type": "markdown",
   "id": "e4e358a8",
   "metadata": {},
   "source": [
    "Create a generator that generates the squares of numbers up to some number N."
   ]
  },
  {
   "cell_type": "code",
   "execution_count": 53,
   "id": "bc93c213",
   "metadata": {},
   "outputs": [],
   "source": [
    "def gen_squares(n):\n",
    "    return (i**2 for i in range(n))"
   ]
  },
  {
   "cell_type": "code",
   "execution_count": 54,
   "id": "aedba289",
   "metadata": {},
   "outputs": [
    {
     "name": "stdout",
     "output_type": "stream",
     "text": [
      "0\n",
      "1\n",
      "4\n",
      "9\n",
      "16\n",
      "25\n",
      "36\n",
      "49\n",
      "64\n",
      "81\n"
     ]
    }
   ],
   "source": [
    "for x in gen_squares(10):\n",
    "    print(x)"
   ]
  },
  {
   "cell_type": "markdown",
   "id": "d4405a92",
   "metadata": {},
   "source": [
    "## Problem 2"
   ]
  },
  {
   "cell_type": "markdown",
   "id": "4b91fe0e",
   "metadata": {},
   "source": [
    "Create a generator that yields \"n\" random numbers between a low and high number (that are inputs).\n",
    "\n",
    "Note: Use the random library. For example:"
   ]
  },
  {
   "cell_type": "code",
   "execution_count": 64,
   "id": "8c06f1fa",
   "metadata": {},
   "outputs": [],
   "source": [
    "import random \n",
    "\n",
    "def rand_gen(a,b,n):\n",
    "    for i in range(n):\n",
    "        yield random.randint(a,b)"
   ]
  },
  {
   "cell_type": "code",
   "execution_count": 67,
   "id": "f125ac48",
   "metadata": {},
   "outputs": [
    {
     "name": "stdout",
     "output_type": "stream",
     "text": [
      "9\n",
      "10\n",
      "8\n",
      "3\n",
      "3\n",
      "6\n",
      "2\n",
      "2\n",
      "6\n",
      "6\n",
      "5\n",
      "8\n"
     ]
    }
   ],
   "source": [
    "for num in rand_gen(1,10,12):\n",
    "    print(num)"
   ]
  },
  {
   "cell_type": "markdown",
   "id": "5626e8ce",
   "metadata": {},
   "source": [
    "## Problem 3"
   ]
  },
  {
   "cell_type": "markdown",
   "id": "400915d1",
   "metadata": {},
   "source": [
    "Use the iter() function to convert the string below into an iterator"
   ]
  },
  {
   "cell_type": "code",
   "execution_count": 70,
   "id": "7b3a4e39",
   "metadata": {},
   "outputs": [
    {
     "ename": "TypeError",
     "evalue": "'str' object is not an iterator",
     "output_type": "error",
     "traceback": [
      "\u001b[1;31m---------------------------------------------------------------------------\u001b[0m",
      "\u001b[1;31mTypeError\u001b[0m                                 Traceback (most recent call last)",
      "\u001b[1;32m~\\AppData\\Local\\Temp\\ipykernel_30280\\3202446764.py\u001b[0m in \u001b[0;36m<module>\u001b[1;34m\u001b[0m\n\u001b[0;32m      1\u001b[0m \u001b[0ms\u001b[0m \u001b[1;33m=\u001b[0m \u001b[1;34m'hello'\u001b[0m\u001b[1;33m\u001b[0m\u001b[1;33m\u001b[0m\u001b[0m\n\u001b[1;32m----> 2\u001b[1;33m \u001b[0mnext\u001b[0m\u001b[1;33m(\u001b[0m\u001b[0ms\u001b[0m\u001b[1;33m)\u001b[0m\u001b[1;33m\u001b[0m\u001b[1;33m\u001b[0m\u001b[0m\n\u001b[0m",
      "\u001b[1;31mTypeError\u001b[0m: 'str' object is not an iterator"
     ]
    }
   ],
   "source": [
    "s = 'hello'\n",
    "next(s)"
   ]
  },
  {
   "cell_type": "code",
   "execution_count": 71,
   "id": "64e27aee",
   "metadata": {},
   "outputs": [
    {
     "name": "stdout",
     "output_type": "stream",
     "text": [
      "h\n",
      "e\n",
      "l\n",
      "l\n",
      "o\n"
     ]
    }
   ],
   "source": [
    "for i in s:\n",
    "    print(i)"
   ]
  },
  {
   "cell_type": "markdown",
   "id": "ae50d420",
   "metadata": {},
   "source": [
    "Strings are iterables but not iterators and next function is only used on iterators"
   ]
  },
  {
   "cell_type": "code",
   "execution_count": 85,
   "id": "02383059",
   "metadata": {},
   "outputs": [],
   "source": [
    "s = iter(s)"
   ]
  },
  {
   "cell_type": "code",
   "execution_count": 86,
   "id": "562256da",
   "metadata": {},
   "outputs": [
    {
     "data": {
      "text/plain": [
       "'h'"
      ]
     },
     "execution_count": 86,
     "metadata": {},
     "output_type": "execute_result"
    }
   ],
   "source": [
    "next(s)"
   ]
  }
 ],
 "metadata": {
  "kernelspec": {
   "display_name": "Python 3 (ipykernel)",
   "language": "python",
   "name": "python3"
  },
  "language_info": {
   "codemirror_mode": {
    "name": "ipython",
    "version": 3
   },
   "file_extension": ".py",
   "mimetype": "text/x-python",
   "name": "python",
   "nbconvert_exporter": "python",
   "pygments_lexer": "ipython3",
   "version": "3.9.13"
  }
 },
 "nbformat": 4,
 "nbformat_minor": 5
}
