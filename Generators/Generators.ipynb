{
 "cells": [
  {
   "cell_type": "markdown",
   "id": "a59d1cec",
   "metadata": {},
   "source": [
    "`Generators` allows us to generate as we go along rather than holding everything in memory and eat our space up. Generator function allows us to write a function that can send a value back and then later resume to pick up where it left off. It helps us to generate a sequence of values over time. "
   ]
  },
  {
   "cell_type": "markdown",
   "id": "5084589e",
   "metadata": {},
   "source": [
    "## Normal Function for Getting Cubes"
   ]
  },
  {
   "cell_type": "code",
   "execution_count": 3,
   "id": "619d8c8b",
   "metadata": {},
   "outputs": [],
   "source": [
    "def func_cubes(n):\n",
    "    return [x**3 for x in range(n)]"
   ]
  },
  {
   "cell_type": "code",
   "execution_count": 4,
   "id": "5fbff642",
   "metadata": {},
   "outputs": [],
   "source": [
    "func = func_cubes(10)"
   ]
  },
  {
   "cell_type": "code",
   "execution_count": 5,
   "id": "5013f3e5",
   "metadata": {},
   "outputs": [
    {
     "data": {
      "text/plain": [
       "[0, 1, 8, 27, 64, 125, 216, 343, 512, 729]"
      ]
     },
     "execution_count": 5,
     "metadata": {},
     "output_type": "execute_result"
    }
   ],
   "source": [
    "func"
   ]
  },
  {
   "cell_type": "code",
   "execution_count": 6,
   "id": "93f7a251",
   "metadata": {},
   "outputs": [
    {
     "data": {
      "text/plain": [
       "184"
      ]
     },
     "execution_count": 6,
     "metadata": {},
     "output_type": "execute_result"
    }
   ],
   "source": []
  },
  {
   "cell_type": "markdown",
   "id": "ec60d2ac",
   "metadata": {},
   "source": [
    "## Generator Function for Getting Cubes"
   ]
  },
  {
   "cell_type": "code",
   "execution_count": 8,
   "id": "9fe9570c",
   "metadata": {},
   "outputs": [],
   "source": [
    "def gen_cubes(n):\n",
    "    for x in range(n):\n",
    "        yield x**3"
   ]
  },
  {
   "cell_type": "code",
   "execution_count": 12,
   "id": "57237ae3",
   "metadata": {},
   "outputs": [],
   "source": [
    "gen = gen_cubes(10)"
   ]
  },
  {
   "cell_type": "code",
   "execution_count": 13,
   "id": "417d0392",
   "metadata": {},
   "outputs": [
    {
     "data": {
      "text/plain": [
       "<generator object gen_cubes at 0x000001A4417AB580>"
      ]
     },
     "execution_count": 13,
     "metadata": {},
     "output_type": "execute_result"
    }
   ],
   "source": [
    "gen"
   ]
  },
  {
   "cell_type": "markdown",
   "id": "8bbb2d44",
   "metadata": {},
   "source": [
    "The generator funnction is memory efficient. They do not return a value rather they become an object upon compilation that supports an iteration protocol. The main advantage is that instead of having to compute an entire series up front, the generator computes one value at a time and wait for the next instruction. This feature is known as `state suspension`"
   ]
  },
  {
   "cell_type": "code",
   "execution_count": 11,
   "id": "8f650805",
   "metadata": {},
   "outputs": [
    {
     "name": "stdout",
     "output_type": "stream",
     "text": [
      "Size of func variable(normal function): 184\n",
      "Size of gen variable(generator function): 112\n"
     ]
    }
   ],
   "source": [
    "import sys\n",
    "print('Size of func variable(normal function):',sys.getsizeof(func))\n",
    "print('Size of gen variable(generator function):',sys.getsizeof(gen))"
   ]
  },
  {
   "cell_type": "markdown",
   "id": "ee13484d",
   "metadata": {},
   "source": [
    "## Fibonacci Numbers"
   ]
  },
  {
   "cell_type": "markdown",
   "id": "87a8672b",
   "metadata": {},
   "source": [
    "Generators are best for calculating large sets of results (particularly in calculations that involve loops themselves) in cases where we don’t want to allocate the memory for all of the results at the same time."
   ]
  },
  {
   "cell_type": "code",
   "execution_count": 14,
   "id": "2bd60f6f",
   "metadata": {},
   "outputs": [],
   "source": [
    "# Generator function for fibonacci numbers\n",
    "def gen_fibon(n):\n",
    "    a,b =1,1\n",
    "    for i in range(n):\n",
    "        yield a\n",
    "        a,b = b,a+b"
   ]
  },
  {
   "cell_type": "code",
   "execution_count": 23,
   "id": "071d00f6",
   "metadata": {},
   "outputs": [
    {
     "name": "stdout",
     "output_type": "stream",
     "text": [
      "1\n",
      "1\n",
      "2\n",
      "3\n",
      "5\n",
      "8\n",
      "13\n",
      "21\n",
      "34\n",
      "55\n",
      "89\n",
      "144\n",
      "233\n",
      "377\n",
      "610\n",
      "987\n",
      "1597\n",
      "2584\n",
      "4181\n",
      "6765\n"
     ]
    }
   ],
   "source": [
    "gen_fib = gen_fibon(20)\n",
    "for num in gen_fib:\n",
    "    print(num)"
   ]
  },
  {
   "cell_type": "code",
   "execution_count": 19,
   "id": "1e7fc7e1",
   "metadata": {},
   "outputs": [],
   "source": [
    "# Normal function for fibonacci numbers\n",
    "def fibon(n):\n",
    "    a,b=1,1\n",
    "    output = []\n",
    "    for i in range(n):\n",
    "        output.append(a)\n",
    "        a,b = b,a+b\n",
    "    return output"
   ]
  },
  {
   "cell_type": "code",
   "execution_count": 26,
   "id": "e101c569",
   "metadata": {},
   "outputs": [
    {
     "name": "stdout",
     "output_type": "stream",
     "text": [
      "[1, 1, 2, 3, 5, 8, 13, 21, 34, 55, 89, 144, 233, 377, 610, 987, 1597, 2584, 4181, 6765]\n"
     ]
    }
   ],
   "source": [
    "func_fib = fibon(20)\n",
    "print(func_fib)"
   ]
  },
  {
   "cell_type": "code",
   "execution_count": 27,
   "id": "b79e003b",
   "metadata": {},
   "outputs": [
    {
     "name": "stdout",
     "output_type": "stream",
     "text": [
      "Size of func_fib variable(normal function): 248\n",
      "Size of gen_fib variable(generator function): 112\n"
     ]
    }
   ],
   "source": [
    "import sys\n",
    "print('Size of func_fib variable(normal function):',sys.getsizeof(func_fib))\n",
    "print('Size of gen_fib variable(generator function):',sys.getsizeof(gen_fib))"
   ]
  },
  {
   "cell_type": "markdown",
   "id": "f614e531",
   "metadata": {},
   "source": [
    "It is clearly visible that a lot of memory is saved when generators are used even for relatively smaller series. If we want to create a fibonacci series of 1000 terms, the normal function will keep track of every single result whereas we just want to keep track of the last result."
   ]
  },
  {
   "cell_type": "markdown",
   "id": "bfda29d4",
   "metadata": {},
   "source": [
    "The generators are usually used with `next()` function. The next function allows us to access the next value in a sequence. A `for` loop also uses next() and it stops its execution when it catches the `StopIteration` exception. A StopIteration exception arises when there is no next value to be yielded. "
   ]
  },
  {
   "cell_type": "code",
   "execution_count": 30,
   "id": "646ac3f1",
   "metadata": {},
   "outputs": [],
   "source": [
    "g = gen_fibon(4)"
   ]
  },
  {
   "cell_type": "code",
   "execution_count": 31,
   "id": "e4ae01cc",
   "metadata": {},
   "outputs": [
    {
     "data": {
      "text/plain": [
       "1"
      ]
     },
     "execution_count": 31,
     "metadata": {},
     "output_type": "execute_result"
    }
   ],
   "source": [
    "next(g)"
   ]
  },
  {
   "cell_type": "code",
   "execution_count": 32,
   "id": "1b1f04b9",
   "metadata": {},
   "outputs": [
    {
     "data": {
      "text/plain": [
       "1"
      ]
     },
     "execution_count": 32,
     "metadata": {},
     "output_type": "execute_result"
    }
   ],
   "source": [
    "next(g)"
   ]
  },
  {
   "cell_type": "code",
   "execution_count": 33,
   "id": "cac9b380",
   "metadata": {},
   "outputs": [
    {
     "data": {
      "text/plain": [
       "2"
      ]
     },
     "execution_count": 33,
     "metadata": {},
     "output_type": "execute_result"
    }
   ],
   "source": [
    "next(g)"
   ]
  },
  {
   "cell_type": "code",
   "execution_count": 34,
   "id": "5e609600",
   "metadata": {},
   "outputs": [
    {
     "data": {
      "text/plain": [
       "3"
      ]
     },
     "execution_count": 34,
     "metadata": {},
     "output_type": "execute_result"
    }
   ],
   "source": [
    "next(g)"
   ]
  },
  {
   "cell_type": "code",
   "execution_count": 35,
   "id": "f87b7a1d",
   "metadata": {},
   "outputs": [
    {
     "ename": "StopIteration",
     "evalue": "",
     "output_type": "error",
     "traceback": [
      "\u001b[1;31m---------------------------------------------------------------------------\u001b[0m",
      "\u001b[1;31mStopIteration\u001b[0m                             Traceback (most recent call last)",
      "\u001b[1;32m~\\AppData\\Local\\Temp\\ipykernel_19280\\4253931490.py\u001b[0m in \u001b[0;36m<module>\u001b[1;34m\u001b[0m\n\u001b[1;32m----> 1\u001b[1;33m \u001b[0mnext\u001b[0m\u001b[1;33m(\u001b[0m\u001b[0mg\u001b[0m\u001b[1;33m)\u001b[0m\u001b[1;33m\u001b[0m\u001b[1;33m\u001b[0m\u001b[0m\n\u001b[0m",
      "\u001b[1;31mStopIteration\u001b[0m: "
     ]
    }
   ],
   "source": [
    "next(g)"
   ]
  }
 ],
 "metadata": {
  "kernelspec": {
   "display_name": "Python 3 (ipykernel)",
   "language": "python",
   "name": "python3"
  },
  "language_info": {
   "codemirror_mode": {
    "name": "ipython",
    "version": 3
   },
   "file_extension": ".py",
   "mimetype": "text/x-python",
   "name": "python",
   "nbconvert_exporter": "python",
   "pygments_lexer": "ipython3",
   "version": "3.9.13"
  }
 },
 "nbformat": 4,
 "nbformat_minor": 5
}
