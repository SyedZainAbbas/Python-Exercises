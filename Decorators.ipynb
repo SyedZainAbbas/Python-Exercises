{
 "cells": [
  {
   "cell_type": "markdown",
   "id": "44b334b8",
   "metadata": {},
   "source": [
    "**Decorator** is a very useful tool in Python. It allows to modify the functionality of a function without permenantly changing it. It can be thought of as an on-off switch for a function. "
   ]
  },
  {
   "cell_type": "markdown",
   "id": "c800bbc2",
   "metadata": {},
   "source": [
    "Before going deep into this topic one should know the basics of a function in  `Python`\n",
    "\n",
    "* A function is an instance of the Object type.\n",
    "* You can store the function in a variable.\n",
    "* You can pass the function as a parameter to another function.\n",
    "* You can return the function from a function.\n",
    "* You can store them in data structures such as lists, dictionaries, etc"
   ]
  },
  {
   "cell_type": "markdown",
   "id": "84e2872d",
   "metadata": {},
   "source": [
    "## Function as Object"
   ]
  },
  {
   "cell_type": "markdown",
   "id": "cc901de1",
   "metadata": {},
   "source": [
    "In Python everything is an object which means functions are also objects that can be assigned to a variable or passed on in a function as a parameter."
   ]
  },
  {
   "cell_type": "markdown",
   "id": "5fe8c9fa",
   "metadata": {},
   "source": [
    "### Storing it as Variable"
   ]
  },
  {
   "cell_type": "code",
   "execution_count": 36,
   "id": "a56debb2",
   "metadata": {},
   "outputs": [],
   "source": [
    "def shout(text):\n",
    "    return text.upper()\n",
    "\n",
    "def whisper(text):\n",
    "    return text.lower()"
   ]
  },
  {
   "cell_type": "code",
   "execution_count": 41,
   "id": "5a1dc649",
   "metadata": {},
   "outputs": [
    {
     "name": "stdout",
     "output_type": "stream",
     "text": [
      "yell: THIS IS A TEXT,\n",
      "mumble: this is a text\n"
     ]
    }
   ],
   "source": [
    "yell = shout('This is a text')\n",
    "mumble = whisper('This is a TEXT')\n",
    "\n",
    "print(f'yell: {yell},\\nmumble: {mumble}')"
   ]
  },
  {
   "cell_type": "markdown",
   "id": "418e9ca1",
   "metadata": {},
   "source": [
    "### Passing as Argument"
   ]
  },
  {
   "cell_type": "code",
   "execution_count": 44,
   "id": "f1147588",
   "metadata": {},
   "outputs": [],
   "source": [
    "def greet(func):\n",
    "    return func('A function passed as an argument')"
   ]
  },
  {
   "cell_type": "code",
   "execution_count": 45,
   "id": "3414c7f2",
   "metadata": {},
   "outputs": [
    {
     "data": {
      "text/plain": [
       "'A FUNCTION PASSED AS AN ARGUMENT'"
      ]
     },
     "execution_count": 45,
     "metadata": {},
     "output_type": "execute_result"
    }
   ],
   "source": [
    "greet(shout)"
   ]
  },
  {
   "cell_type": "code",
   "execution_count": 46,
   "id": "18567938",
   "metadata": {},
   "outputs": [
    {
     "data": {
      "text/plain": [
       "'a function passed as an argument'"
      ]
     },
     "execution_count": 46,
     "metadata": {},
     "output_type": "execute_result"
    }
   ],
   "source": [
    "greet(whisper)"
   ]
  },
  {
   "cell_type": "markdown",
   "id": "7ad32dda",
   "metadata": {},
   "source": [
    "### Function within a Function"
   ]
  },
  {
   "cell_type": "code",
   "execution_count": 48,
   "id": "f5ee59b8",
   "metadata": {},
   "outputs": [
    {
     "name": "stdout",
     "output_type": "stream",
     "text": [
      "40\n",
      "50\n",
      "60\n"
     ]
    }
   ],
   "source": [
    "def create_adder(x):\n",
    "    def adder(y):\n",
    "        return x + y\n",
    "    return adder\n",
    "\n",
    "add_20 = create_adder(20)\n",
    "# now 20 is fixed which means you can add 20 to any number\n",
    "print(add_20(20))\n",
    "print(add_20(30))\n",
    "print(add_20(40))"
   ]
  },
  {
   "cell_type": "markdown",
   "id": "dc582b94",
   "metadata": {},
   "source": [
    "## Creating a Decorator"
   ]
  },
  {
   "cell_type": "code",
   "execution_count": 51,
   "id": "f9117acc",
   "metadata": {},
   "outputs": [],
   "source": [
    "def new_decorator(func):\n",
    "    def wrap_func():\n",
    "        print('Before executing the code')\n",
    "        func()\n",
    "        print('After executing the code')\n",
    "    return wrap_func\n",
    "\n",
    "def func_needs_decoration():\n",
    "    print('I need to be decorated')"
   ]
  },
  {
   "cell_type": "code",
   "execution_count": 52,
   "id": "363281c9",
   "metadata": {},
   "outputs": [],
   "source": [
    "func_needs_decor = new_decorator(func_needs_decoration)"
   ]
  },
  {
   "cell_type": "code",
   "execution_count": 54,
   "id": "a099dd9f",
   "metadata": {},
   "outputs": [
    {
     "name": "stdout",
     "output_type": "stream",
     "text": [
      "Before executing the code\n",
      "I need to be decorated\n",
      "After executing the code\n"
     ]
    }
   ],
   "source": [
    "func_needs_decor()"
   ]
  },
  {
   "cell_type": "markdown",
   "id": "dc71dffe",
   "metadata": {},
   "source": [
    "So a decorator simply wrapped the function and modified its behavior"
   ]
  },
  {
   "cell_type": "code",
   "execution_count": 55,
   "id": "22c5baf3",
   "metadata": {},
   "outputs": [],
   "source": [
    "@new_decorator\n",
    "def func_needs_decoration():\n",
    "    print('I need to be decorated')"
   ]
  },
  {
   "cell_type": "code",
   "execution_count": 57,
   "id": "c9cb80bf",
   "metadata": {},
   "outputs": [
    {
     "name": "stdout",
     "output_type": "stream",
     "text": [
      "Before executing the code\n",
      "I need to be decorated\n",
      "After executing the code\n"
     ]
    }
   ],
   "source": [
    "func_needs_decoration()"
   ]
  },
  {
   "cell_type": "markdown",
   "id": "6eb01685",
   "metadata": {},
   "source": [
    "Now `@new_decorator` is acting as an on-off switch"
   ]
  },
  {
   "cell_type": "code",
   "execution_count": 58,
   "id": "058510f5",
   "metadata": {},
   "outputs": [
    {
     "name": "stdout",
     "output_type": "stream",
     "text": [
      "I need to be decorated\n"
     ]
    }
   ],
   "source": [
    "def func_needs_decoration():\n",
    "    print('I need to be decorated')\n",
    "\n",
    "func_needs_decoration()"
   ]
  },
  {
   "cell_type": "code",
   "execution_count": null,
   "id": "529bbadf",
   "metadata": {},
   "outputs": [],
   "source": []
  }
 ],
 "metadata": {
  "kernelspec": {
   "display_name": "Python 3 (ipykernel)",
   "language": "python",
   "name": "python3"
  },
  "language_info": {
   "codemirror_mode": {
    "name": "ipython",
    "version": 3
   },
   "file_extension": ".py",
   "mimetype": "text/x-python",
   "name": "python",
   "nbconvert_exporter": "python",
   "pygments_lexer": "ipython3",
   "version": "3.9.13"
  }
 },
 "nbformat": 4,
 "nbformat_minor": 5
}
